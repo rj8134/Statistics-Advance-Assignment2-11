{
 "cells": [
  {
   "cell_type": "markdown",
   "id": "b88aae78-98ec-4566-9cb5-dd2241cbc036",
   "metadata": {},
   "source": [
    "# Q1: What are the Probability Mass Function (PMF) and Probability Density Function (PDF)? Explain with an example."
   ]
  },
  {
   "cell_type": "markdown",
   "id": "e1f42b5b-e178-4e10-8688-3f0490177a17",
   "metadata": {},
   "source": [
    "https://towardsdatascience.com/probability-mass-and-density-functions-eab86a81d021"
   ]
  },
  {
   "cell_type": "markdown",
   "id": "0064ad5c-2921-48ea-9f53-754f9e49a9e9",
   "metadata": {},
   "source": [
    "The Probability Mass Function (PMF) provides the probability distribution for discrete variables. For example, rolling dice. There are 6 distinct possible outcomes that define the entire sample space {1, 2, 3, 4, 5, 6}. Note that we only have whole numbers, i.e. no 1.2 or 3.75. In the PMF, each discrete variable is mapped to its probability. In an ideal situation rolling a die, each of the six variables has a 1/6 probability of being rolled."
   ]
  },
  {
   "cell_type": "markdown",
   "id": "0e3eaccf-fecd-4637-beb1-5921160b920d",
   "metadata": {},
   "source": [
    "The Probability Mass Function (PMF) is also called a probability function or frequency function which characterizes the distribution of a discrete random variable. Let X be a discrete random variable of a function, then the probability mass function of a random variable X is given by\n",
    "\n",
    "Px (x) = P( X=x ), For all x belongs to the range of X\n",
    "\n",
    "It is noted that the probability function should fall on the condition :\n",
    "\n",
    "Px (x) ≥ 0 and\n",
    "∑xϵRange(x) Px (x) = 1\n",
    "Here the Range(X) is a countable set and it can be written as { x1, x2, x3, ….}. This means that the random variable X takes the value x1, x2, x3, ….\n",
    "\n",
    "These can also be stated as explained below.\n",
    "\n",
    "The probability mass function P(X = x) = f(x) of a discrete random variable is a function that satisfies the following properties:\n",
    "\n",
    "P(X = x) = f(x) > 0; if x ∈ Range of x that supports\n",
    " \n",
    " \n",
    "Definition\n",
    "The Probability Mass function is defined on all the values of R, where it takes all the arguments of any real number. It doesn’t belong to the value of X when the argument value equals to zero and when the argument belongs to x, the value of PMF should be positive.\n",
    "\n",
    "The probability mass function is usually the primary component of defining a discrete probability distribution, but it differs from the probability density function (PDF) where it produces distinct outcomes. This is the reason why probability mass function is used in computer programming and statistical modelling. In other words, probability mass function is a function that relates discrete events to the probabilities associated with those events occurring. The word “mass“ indicates the probabilities that are concentrated on discrete events.\n",
    "\n",
    "Applications of Probability Mass Functions\n",
    "Probability mass function plays an important role in statistics. It defines the probabilities for the given discrete random variable. It integrates the variable for the given random number which is equal to the probability for the random variable.\n",
    "It is used to calculate the mean and variance of the discrete distribution.\n",
    "It is used in binomial and Poisson distribution to find the probability value where it uses discrete values.\n",
    "https://byjus.com/maths/probability-mass-function/"
   ]
  },
  {
   "attachments": {
    "5c9d6316-6453-485e-9c35-27ba9961fc30.png": {
     "image/png": "[encoded data removed]"
    }
   },
   "cell_type": "markdown",
   "id": "a59f2598-33f5-43ba-afbe-d5c97c35e2f7",
   "metadata": {},
   "source": [
    "The Probability Density Function(PDF) defines the probability function representing the density of a continuous random variable lying between a specific range of values. In other words, the probability density function produces the likelihood of values of the continuous random variable. Sometimes it is also called a probability distribution function or just a probability function. However, this function is stated in many other sources as the function over a broad set of values.\n",
    "\n",
    "\n",
    "In the case of a continuous random variable, the probability taken by X on some given value x is always 0. In this case, if we find P(X = x), it does not work. Instead of this, we must calculate the probability of X lying in an interval (a, b). Now, we have to figure it for P(a< X< b), and we can calculate this using the formula of PDF. \n",
    "\n",
    "\n",
    "Probability Density Function Graph\n",
    "The probability density function is defined as an integral of the density of the variable density over a given range. It is denoted by f (x). This function is positive or non-negative at any point of the graph, and the integral, more specifically the definite integral of PDF over the entire space is always equal to one. The graph of PDFs typically resembles a bell curve, with the probability of the outcomes below the curve. The below figure depicts the graph of a probability density function for a continuous random variable x with function f(x).\n",
    "\n",
    "\n",
    "![Probability-Density-Function.png](attachment:5c9d6316-6453-485e-9c35-27ba9961fc30.png)\n"
   ]
  },
  {
   "cell_type": "markdown",
   "id": "dd6a772c-31a6-48d9-ae62-4f0cc5862fc9",
   "metadata": {},
   "source": [
    "Probability Density Function — Continuous\n",
    "Now that we’ve covered discrete variables, what about continuous variables? These are variables that don’t fit into fixed amounts, height for example. You can be 6' tall or — if you have the most accurate tape measure ever made — 6.1248938' tall! A key aspect of continuous variables is that there are an infinite number of possible outcomes.\n",
    "\n",
    "The probability density function (PDF) shows where observations are more likely to occur in the probability distribution. Perhaps the most important thing to remember to understand PDFs is that the probability of any specific outcome is 0. We have to think in terms of bins or ranges of values to calculate the probability of seeing those values. Why is that?\n",
    "\n",
    "Basically because your height will never be exactly 6'! It could be 6.00001 or 5.99999. We use a range of values instead, because we can calculate the probability that your height is between 5'11\" and 6'1\". This spread is called the interval.\n",
    "\n"
   ]
  },
  {
   "cell_type": "code",
   "execution_count": null,
   "id": "32aa545b-9180-4ae4-a597-d85f31d0721b",
   "metadata": {},
   "outputs": [],
   "source": [
    "A function is said to be a probability density function if it represents a continuous probability distribution."
   ]
  },
  {
   "cell_type": "markdown",
   "id": "7b1beb3f-d715-45d7-91fd-dea5d35fd932",
   "metadata": {},
   "source": [
    "The major difference between the probability density function (PDF) and the probability mass function (PMF) is that PDF is used to describe the continuous probability distribution whereas PMF is used to describe the discrete probability distribution."
   ]
  },
  {
   "cell_type": "code",
   "execution_count": null,
   "id": "ec184c05-87a1-4447-9467-bc5f077ce7ad",
   "metadata": {},
   "outputs": [],
   "source": [
    "The probability density function is said to be valid if it obeys the following conditions:\n",
    "1. f(x) should be non-negative for all values of the random variable.\n",
    "2. The area underneath f(x) should be equal to 1."
   ]
  },
  {
   "cell_type": "code",
   "execution_count": null,
   "id": "ac5f0255-1399-4e6e-927b-a5ffff88dfb1",
   "metadata": {},
   "outputs": [],
   "source": [
    "Can the probability density function be negative?\n",
    "No, the probability density function cannot be negative."
   ]
  },
  {
   "cell_type": "markdown",
   "id": "40657843-6dfb-4bf8-a74f-898dd9df2252",
   "metadata": {},
   "source": [
    "The median of the probability density function is a continuous probability function in which the distribution function has a value equal to 0.5."
   ]
  },
  {
   "cell_type": "markdown",
   "id": "45e7877a-4ae9-4961-bdf6-fbc20e146960",
   "metadata": {},
   "source": [
    "# Q2: What is Cumulative Density Function (CDF)? Explain with an example. Why CDF is used?"
   ]
  },
  {
   "cell_type": "markdown",
   "id": "9c81afa7-ee51-4c94-88d4-acfbfe2121cf",
   "metadata": {},
   "source": [
    "The cumulative distribution function (CDF) of a random variable is another method to describe the distribution of random variables. The advantage of the CDF is that it can be defined for any kind of random variable (discrete, continuous, and mixed)."
   ]
  },
  {
   "cell_type": "markdown",
   "id": "fa6fb633-fda5-4ffc-9eb1-b38993d9d6b3",
   "metadata": {},
   "source": [
    "A cumulative distribution function (CDF) describes the probabilities of a random variable having values less than or equal to x. It is a cumulative function because it sums the total likelihood up to that point. Its output always ranges between 0 and 1.\n",
    "\n",
    "CDFs have the following definition:\n",
    "\n",
    "CDF(x) = P(X ≤ x)\n",
    "\n",
    "Where X is the random variable, and x is a specific value. The CDF gives us the probability that the random variable X is less than or equal to x. These functions are non-decreasing. As x increases, the likelihood can either increase or stay constant, but it can’t decrease."
   ]
  },
  {
   "cell_type": "code",
   "execution_count": 21,
   "id": "e2b8f1ec-547a-42a4-a89f-f3b58963c6ba",
   "metadata": {},
   "outputs": [],
   "source": [
    "import pandas as pd\n",
    "import numpy as np\n",
    "import seaborn as sns\n",
    "import matplotlib.pyplot as plt"
   ]
  },
  {
   "cell_type": "code",
   "execution_count": 4,
   "id": "e18e0904-bba4-4358-942c-3d60203d4f23",
   "metadata": {},
   "outputs": [],
   "source": [
    "df=sns.load_dataset('iris')"
   ]
  },
  {
   "cell_type": "code",
   "execution_count": 5,
   "id": "3b5d5ad4-d2aa-449f-aae1-f1a5fb31f82f",
   "metadata": {},
   "outputs": [
    {
     "data": {
      "text/html": [
       "<div>\n",
       "<style scoped>\n",
       "    .dataframe tbody tr th:only-of-type {\n",
       "        vertical-align: middle;\n",
       "    }\n",
       "\n",
       "    .dataframe tbody tr th {\n",
       "        vertical-align: top;\n",
       "    }\n",
       "\n",
       "    .dataframe thead th {\n",
       "        text-align: right;\n",
       "    }\n",
       "</style>\n",
       "<table border=\"1\" class=\"dataframe\">\n",
       "  <thead>\n",
       "    <tr style=\"text-align: right;\">\n",
       "      <th></th>\n",
       "      <th>sepal_length</th>\n",
       "      <th>sepal_width</th>\n",
       "      <th>petal_length</th>\n",
       "      <th>petal_width</th>\n",
       "      <th>species</th>\n",
       "    </tr>\n",
       "  </thead>\n",
       "  <tbody>\n",
       "    <tr>\n",
       "      <th>0</th>\n",
       "      <td>5.1</td>\n",
       "      <td>3.5</td>\n",
       "      <td>1.4</td>\n",
       "      <td>0.2</td>\n",
       "      <td>setosa</td>\n",
       "    </tr>\n",
       "    <tr>\n",
       "      <th>1</th>\n",
       "      <td>4.9</td>\n",
       "      <td>3.0</td>\n",
       "      <td>1.4</td>\n",
       "      <td>0.2</td>\n",
       "      <td>setosa</td>\n",
       "    </tr>\n",
       "    <tr>\n",
       "      <th>2</th>\n",
       "      <td>4.7</td>\n",
       "      <td>3.2</td>\n",
       "      <td>1.3</td>\n",
       "      <td>0.2</td>\n",
       "      <td>setosa</td>\n",
       "    </tr>\n",
       "    <tr>\n",
       "      <th>3</th>\n",
       "      <td>4.6</td>\n",
       "      <td>3.1</td>\n",
       "      <td>1.5</td>\n",
       "      <td>0.2</td>\n",
       "      <td>setosa</td>\n",
       "    </tr>\n",
       "    <tr>\n",
       "      <th>4</th>\n",
       "      <td>5.0</td>\n",
       "      <td>3.6</td>\n",
       "      <td>1.4</td>\n",
       "      <td>0.2</td>\n",
       "      <td>setosa</td>\n",
       "    </tr>\n",
       "  </tbody>\n",
       "</table>\n",
       "</div>"
      ],
      "text/plain": [
       "   sepal_length  sepal_width  petal_length  petal_width species\n",
       "0           5.1          3.5           1.4          0.2  setosa\n",
       "1           4.9          3.0           1.4          0.2  setosa\n",
       "2           4.7          3.2           1.3          0.2  setosa\n",
       "3           4.6          3.1           1.5          0.2  setosa\n",
       "4           5.0          3.6           1.4          0.2  setosa"
      ]
     },
     "execution_count": 5,
     "metadata": {},
     "output_type": "execute_result"
    }
   ],
   "source": [
    "df.head()"
   ]
  },
  {
   "cell_type": "code",
   "execution_count": 6,
   "id": "2dfd7b96-a03e-40a6-8a99-48b0bd3d1057",
   "metadata": {},
   "outputs": [
    {
     "data": {
      "text/plain": [
       "array(['setosa', 'versicolor', 'virginica'], dtype=object)"
      ]
     },
     "execution_count": 6,
     "metadata": {},
     "output_type": "execute_result"
    }
   ],
   "source": [
    "df['species'].unique()"
   ]
  },
  {
   "cell_type": "code",
   "execution_count": null,
   "id": "e9d852e5-d2fe-4829-b034-897cb93b536f",
   "metadata": {},
   "outputs": [],
   "source": []
  },
  {
   "cell_type": "code",
   "execution_count": 7,
   "id": "a127ec54-25cd-40e9-a9af-071627d758fc",
   "metadata": {},
   "outputs": [
    {
     "name": "stderr",
     "output_type": "stream",
     "text": [
      "/tmp/ipykernel_85/3698961737.py:1: FutureWarning: The default value of numeric_only in DataFrame.mean is deprecated. In a future version, it will default to False. In addition, specifying 'numeric_only=None' is deprecated. Select only valid columns or specify the value of numeric_only to silence this warning.\n",
      "  df.mean()\n"
     ]
    },
    {
     "data": {
      "text/plain": [
       "sepal_length    5.843333\n",
       "sepal_width     3.057333\n",
       "petal_length    3.758000\n",
       "petal_width     1.199333\n",
       "dtype: float64"
      ]
     },
     "execution_count": 7,
     "metadata": {},
     "output_type": "execute_result"
    }
   ],
   "source": [
    "df.mean()"
   ]
  },
  {
   "cell_type": "code",
   "execution_count": 18,
   "id": "5f6585de-552f-49c1-b482-da3b0d5622b0",
   "metadata": {},
   "outputs": [
    {
     "name": "stderr",
     "output_type": "stream",
     "text": [
      "/tmp/ipykernel_85/3390915376.py:1: FutureWarning: The default value of numeric_only in DataFrame.std is deprecated. In a future version, it will default to False. In addition, specifying 'numeric_only=None' is deprecated. Select only valid columns or specify the value of numeric_only to silence this warning.\n",
      "  df.std()\n"
     ]
    },
    {
     "data": {
      "text/plain": [
       "sepal_length    0.828066\n",
       "sepal_width     0.435866\n",
       "petal_length    1.765298\n",
       "petal_width     0.762238\n",
       "dtype: float64"
      ]
     },
     "execution_count": 18,
     "metadata": {},
     "output_type": "execute_result"
    }
   ],
   "source": [
    "df.std()"
   ]
  },
  {
   "cell_type": "code",
   "execution_count": null,
   "id": "6bcb96d9-647f-42b8-9187-c5022866c7dd",
   "metadata": {},
   "outputs": [],
   "source": []
  },
  {
   "cell_type": "code",
   "execution_count": 8,
   "id": "70024df5-1f35-47a9-b355-22566b8feb69",
   "metadata": {},
   "outputs": [
    {
     "data": {
      "text/html": [
       "<div>\n",
       "<style scoped>\n",
       "    .dataframe tbody tr th:only-of-type {\n",
       "        vertical-align: middle;\n",
       "    }\n",
       "\n",
       "    .dataframe tbody tr th {\n",
       "        vertical-align: top;\n",
       "    }\n",
       "\n",
       "    .dataframe thead th {\n",
       "        text-align: right;\n",
       "    }\n",
       "</style>\n",
       "<table border=\"1\" class=\"dataframe\">\n",
       "  <thead>\n",
       "    <tr style=\"text-align: right;\">\n",
       "      <th></th>\n",
       "      <th>sepal_length</th>\n",
       "      <th>sepal_width</th>\n",
       "      <th>petal_length</th>\n",
       "      <th>petal_width</th>\n",
       "    </tr>\n",
       "    <tr>\n",
       "      <th>species</th>\n",
       "      <th></th>\n",
       "      <th></th>\n",
       "      <th></th>\n",
       "      <th></th>\n",
       "    </tr>\n",
       "  </thead>\n",
       "  <tbody>\n",
       "    <tr>\n",
       "      <th>setosa</th>\n",
       "      <td>5.006</td>\n",
       "      <td>3.428</td>\n",
       "      <td>1.462</td>\n",
       "      <td>0.246</td>\n",
       "    </tr>\n",
       "    <tr>\n",
       "      <th>versicolor</th>\n",
       "      <td>5.936</td>\n",
       "      <td>2.770</td>\n",
       "      <td>4.260</td>\n",
       "      <td>1.326</td>\n",
       "    </tr>\n",
       "    <tr>\n",
       "      <th>virginica</th>\n",
       "      <td>6.588</td>\n",
       "      <td>2.974</td>\n",
       "      <td>5.552</td>\n",
       "      <td>2.026</td>\n",
       "    </tr>\n",
       "  </tbody>\n",
       "</table>\n",
       "</div>"
      ],
      "text/plain": [
       "            sepal_length  sepal_width  petal_length  petal_width\n",
       "species                                                         \n",
       "setosa             5.006        3.428         1.462        0.246\n",
       "versicolor         5.936        2.770         4.260        1.326\n",
       "virginica          6.588        2.974         5.552        2.026"
      ]
     },
     "execution_count": 8,
     "metadata": {},
     "output_type": "execute_result"
    }
   ],
   "source": [
    "df.groupby('species').mean()"
   ]
  },
  {
   "cell_type": "code",
   "execution_count": 8,
   "id": "902d72fb-8cf2-44e8-9b39-858dd83416b9",
   "metadata": {},
   "outputs": [
    {
     "data": {
      "text/html": [
       "<div>\n",
       "<style scoped>\n",
       "    .dataframe tbody tr th:only-of-type {\n",
       "        vertical-align: middle;\n",
       "    }\n",
       "\n",
       "    .dataframe tbody tr th {\n",
       "        vertical-align: top;\n",
       "    }\n",
       "\n",
       "    .dataframe thead th {\n",
       "        text-align: right;\n",
       "    }\n",
       "</style>\n",
       "<table border=\"1\" class=\"dataframe\">\n",
       "  <thead>\n",
       "    <tr style=\"text-align: right;\">\n",
       "      <th></th>\n",
       "      <th>sepal_length</th>\n",
       "      <th>sepal_width</th>\n",
       "      <th>petal_length</th>\n",
       "      <th>petal_width</th>\n",
       "    </tr>\n",
       "    <tr>\n",
       "      <th>species</th>\n",
       "      <th></th>\n",
       "      <th></th>\n",
       "      <th></th>\n",
       "      <th></th>\n",
       "    </tr>\n",
       "  </thead>\n",
       "  <tbody>\n",
       "    <tr>\n",
       "      <th>setosa</th>\n",
       "      <td>5.006</td>\n",
       "      <td>3.428</td>\n",
       "      <td>1.462</td>\n",
       "      <td>0.246</td>\n",
       "    </tr>\n",
       "    <tr>\n",
       "      <th>versicolor</th>\n",
       "      <td>5.936</td>\n",
       "      <td>2.770</td>\n",
       "      <td>4.260</td>\n",
       "      <td>1.326</td>\n",
       "    </tr>\n",
       "    <tr>\n",
       "      <th>virginica</th>\n",
       "      <td>6.588</td>\n",
       "      <td>2.974</td>\n",
       "      <td>5.552</td>\n",
       "      <td>2.026</td>\n",
       "    </tr>\n",
       "  </tbody>\n",
       "</table>\n",
       "</div>"
      ],
      "text/plain": [
       "            sepal_length  sepal_width  petal_length  petal_width\n",
       "species                                                         \n",
       "setosa             5.006        3.428         1.462        0.246\n",
       "versicolor         5.936        2.770         4.260        1.326\n",
       "virginica          6.588        2.974         5.552        2.026"
      ]
     },
     "execution_count": 8,
     "metadata": {},
     "output_type": "execute_result"
    }
   ],
   "source": [
    "df.groupby('species').mean()"
   ]
  },
  {
   "cell_type": "code",
   "execution_count": 9,
   "id": "81112229-8693-4b8d-9085-bba0857043dd",
   "metadata": {},
   "outputs": [
    {
     "data": {
      "text/html": [
       "<div>\n",
       "<style scoped>\n",
       "    .dataframe tbody tr th:only-of-type {\n",
       "        vertical-align: middle;\n",
       "    }\n",
       "\n",
       "    .dataframe tbody tr th {\n",
       "        vertical-align: top;\n",
       "    }\n",
       "\n",
       "    .dataframe thead th {\n",
       "        text-align: right;\n",
       "    }\n",
       "</style>\n",
       "<table border=\"1\" class=\"dataframe\">\n",
       "  <thead>\n",
       "    <tr style=\"text-align: right;\">\n",
       "      <th></th>\n",
       "      <th>sepal_length</th>\n",
       "      <th>sepal_width</th>\n",
       "      <th>petal_length</th>\n",
       "      <th>petal_width</th>\n",
       "    </tr>\n",
       "    <tr>\n",
       "      <th>species</th>\n",
       "      <th></th>\n",
       "      <th></th>\n",
       "      <th></th>\n",
       "      <th></th>\n",
       "    </tr>\n",
       "  </thead>\n",
       "  <tbody>\n",
       "    <tr>\n",
       "      <th>setosa</th>\n",
       "      <td>5.0</td>\n",
       "      <td>3.4</td>\n",
       "      <td>1.50</td>\n",
       "      <td>0.2</td>\n",
       "    </tr>\n",
       "    <tr>\n",
       "      <th>versicolor</th>\n",
       "      <td>5.9</td>\n",
       "      <td>2.8</td>\n",
       "      <td>4.35</td>\n",
       "      <td>1.3</td>\n",
       "    </tr>\n",
       "    <tr>\n",
       "      <th>virginica</th>\n",
       "      <td>6.5</td>\n",
       "      <td>3.0</td>\n",
       "      <td>5.55</td>\n",
       "      <td>2.0</td>\n",
       "    </tr>\n",
       "  </tbody>\n",
       "</table>\n",
       "</div>"
      ],
      "text/plain": [
       "            sepal_length  sepal_width  petal_length  petal_width\n",
       "species                                                         \n",
       "setosa               5.0          3.4          1.50          0.2\n",
       "versicolor           5.9          2.8          4.35          1.3\n",
       "virginica            6.5          3.0          5.55          2.0"
      ]
     },
     "execution_count": 9,
     "metadata": {},
     "output_type": "execute_result"
    }
   ],
   "source": [
    "df.groupby('species').median()"
   ]
  },
  {
   "cell_type": "code",
   "execution_count": 12,
   "id": "1438dd5d-8dff-41ff-9a8d-edab4cdd16c9",
   "metadata": {},
   "outputs": [
    {
     "data": {
      "text/html": [
       "<div>\n",
       "<style scoped>\n",
       "    .dataframe tbody tr th:only-of-type {\n",
       "        vertical-align: middle;\n",
       "    }\n",
       "\n",
       "    .dataframe tbody tr th {\n",
       "        vertical-align: top;\n",
       "    }\n",
       "\n",
       "    .dataframe thead tr th {\n",
       "        text-align: left;\n",
       "    }\n",
       "\n",
       "    .dataframe thead tr:last-of-type th {\n",
       "        text-align: right;\n",
       "    }\n",
       "</style>\n",
       "<table border=\"1\" class=\"dataframe\">\n",
       "  <thead>\n",
       "    <tr>\n",
       "      <th></th>\n",
       "      <th colspan=\"2\" halign=\"left\">sepal_length</th>\n",
       "      <th colspan=\"2\" halign=\"left\">sepal_width</th>\n",
       "      <th colspan=\"2\" halign=\"left\">petal_length</th>\n",
       "      <th colspan=\"2\" halign=\"left\">petal_width</th>\n",
       "    </tr>\n",
       "    <tr>\n",
       "      <th></th>\n",
       "      <th>mean</th>\n",
       "      <th>median</th>\n",
       "      <th>mean</th>\n",
       "      <th>median</th>\n",
       "      <th>mean</th>\n",
       "      <th>median</th>\n",
       "      <th>mean</th>\n",
       "      <th>median</th>\n",
       "    </tr>\n",
       "    <tr>\n",
       "      <th>species</th>\n",
       "      <th></th>\n",
       "      <th></th>\n",
       "      <th></th>\n",
       "      <th></th>\n",
       "      <th></th>\n",
       "      <th></th>\n",
       "      <th></th>\n",
       "      <th></th>\n",
       "    </tr>\n",
       "  </thead>\n",
       "  <tbody>\n",
       "    <tr>\n",
       "      <th>setosa</th>\n",
       "      <td>5.006</td>\n",
       "      <td>5.0</td>\n",
       "      <td>3.428</td>\n",
       "      <td>3.4</td>\n",
       "      <td>1.462</td>\n",
       "      <td>1.50</td>\n",
       "      <td>0.246</td>\n",
       "      <td>0.2</td>\n",
       "    </tr>\n",
       "    <tr>\n",
       "      <th>versicolor</th>\n",
       "      <td>5.936</td>\n",
       "      <td>5.9</td>\n",
       "      <td>2.770</td>\n",
       "      <td>2.8</td>\n",
       "      <td>4.260</td>\n",
       "      <td>4.35</td>\n",
       "      <td>1.326</td>\n",
       "      <td>1.3</td>\n",
       "    </tr>\n",
       "    <tr>\n",
       "      <th>virginica</th>\n",
       "      <td>6.588</td>\n",
       "      <td>6.5</td>\n",
       "      <td>2.974</td>\n",
       "      <td>3.0</td>\n",
       "      <td>5.552</td>\n",
       "      <td>5.55</td>\n",
       "      <td>2.026</td>\n",
       "      <td>2.0</td>\n",
       "    </tr>\n",
       "  </tbody>\n",
       "</table>\n",
       "</div>"
      ],
      "text/plain": [
       "           sepal_length        sepal_width        petal_length         \\\n",
       "                   mean median        mean median         mean median   \n",
       "species                                                                 \n",
       "setosa            5.006    5.0       3.428    3.4        1.462   1.50   \n",
       "versicolor        5.936    5.9       2.770    2.8        4.260   4.35   \n",
       "virginica         6.588    6.5       2.974    3.0        5.552   5.55   \n",
       "\n",
       "           petal_width         \n",
       "                  mean median  \n",
       "species                        \n",
       "setosa           0.246    0.2  \n",
       "versicolor       1.326    1.3  \n",
       "virginica        2.026    2.0  "
      ]
     },
     "execution_count": 12,
     "metadata": {},
     "output_type": "execute_result"
    }
   ],
   "source": [
    "df.groupby('species').agg(['mean','median'])"
   ]
  },
  {
   "cell_type": "code",
   "execution_count": 14,
   "id": "b4ee7445-86c3-4f30-86dc-75af38bb16c8",
   "metadata": {},
   "outputs": [
    {
     "data": {
      "text/html": [
       "<div>\n",
       "<style scoped>\n",
       "    .dataframe tbody tr th:only-of-type {\n",
       "        vertical-align: middle;\n",
       "    }\n",
       "\n",
       "    .dataframe tbody tr th {\n",
       "        vertical-align: top;\n",
       "    }\n",
       "\n",
       "    .dataframe thead th {\n",
       "        text-align: right;\n",
       "    }\n",
       "</style>\n",
       "<table border=\"1\" class=\"dataframe\">\n",
       "  <thead>\n",
       "    <tr style=\"text-align: right;\">\n",
       "      <th></th>\n",
       "      <th>sepal_length</th>\n",
       "      <th>sepal_width</th>\n",
       "      <th>petal_length</th>\n",
       "      <th>petal_width</th>\n",
       "    </tr>\n",
       "    <tr>\n",
       "      <th>species</th>\n",
       "      <th></th>\n",
       "      <th></th>\n",
       "      <th></th>\n",
       "      <th></th>\n",
       "    </tr>\n",
       "  </thead>\n",
       "  <tbody>\n",
       "    <tr>\n",
       "      <th>setosa</th>\n",
       "      <td>0.352490</td>\n",
       "      <td>0.379064</td>\n",
       "      <td>0.173664</td>\n",
       "      <td>0.105386</td>\n",
       "    </tr>\n",
       "    <tr>\n",
       "      <th>versicolor</th>\n",
       "      <td>0.516171</td>\n",
       "      <td>0.313798</td>\n",
       "      <td>0.469911</td>\n",
       "      <td>0.197753</td>\n",
       "    </tr>\n",
       "    <tr>\n",
       "      <th>virginica</th>\n",
       "      <td>0.635880</td>\n",
       "      <td>0.322497</td>\n",
       "      <td>0.551895</td>\n",
       "      <td>0.274650</td>\n",
       "    </tr>\n",
       "  </tbody>\n",
       "</table>\n",
       "</div>"
      ],
      "text/plain": [
       "            sepal_length  sepal_width  petal_length  petal_width\n",
       "species                                                         \n",
       "setosa          0.352490     0.379064      0.173664     0.105386\n",
       "versicolor      0.516171     0.313798      0.469911     0.197753\n",
       "virginica       0.635880     0.322497      0.551895     0.274650"
      ]
     },
     "execution_count": 14,
     "metadata": {},
     "output_type": "execute_result"
    }
   ],
   "source": [
    "df.groupby('species').std()"
   ]
  },
  {
   "cell_type": "code",
   "execution_count": 15,
   "id": "aee064bb-96cb-444d-a7f0-8274706ae3b3",
   "metadata": {},
   "outputs": [],
   "source": [
    "mean=np.mean(df['petal_length'])\n",
    "std=np.std(df['petal_length'])"
   ]
  },
  {
   "cell_type": "code",
   "execution_count": 16,
   "id": "22971445-7c9c-490c-aff3-0fc207a0e8b1",
   "metadata": {},
   "outputs": [
    {
     "data": {
      "text/plain": [
       "3.7580000000000005"
      ]
     },
     "execution_count": 16,
     "metadata": {},
     "output_type": "execute_result"
    }
   ],
   "source": [
    "mean"
   ]
  },
  {
   "cell_type": "code",
   "execution_count": 17,
   "id": "bcec3f71-da07-4003-b1c2-0d8c7ef0734b",
   "metadata": {},
   "outputs": [
    {
     "data": {
      "text/plain": [
       "1.7594040657753032"
      ]
     },
     "execution_count": 17,
     "metadata": {},
     "output_type": "execute_result"
    }
   ],
   "source": [
    "std"
   ]
  },
  {
   "cell_type": "code",
   "execution_count": 23,
   "id": "e31a1450-d55b-4dee-8c2d-788cc0faea64",
   "metadata": {},
   "outputs": [],
   "source": [
    "from scipy.stats import norm\n",
    "pdf=norm.pdf(df['petal_length'],loc=mean,scale=std)"
   ]
  },
  {
   "cell_type": "code",
   "execution_count": 25,
   "id": "e2cb2495-bfee-4b2e-9b23-84f1869991ad",
   "metadata": {},
   "outputs": [],
   "source": [
    "cdf=np.cumsum(pdf)"
   ]
  },
  {
   "cell_type": "code",
   "execution_count": 26,
   "id": "35b80136-9508-4eca-94b4-8ba83fa483a8",
   "metadata": {},
   "outputs": [
    {
     "data": {
      "text/plain": [
       "<AxesSubplot: >"
      ]
     },
     "execution_count": 26,
     "metadata": {},
     "output_type": "execute_result"
    },
    {
     "data": {
      "image/png": "[encoded data removed]",
      "text/plain": [
       "<Figure size 640x480 with 1 Axes>"
      ]
     },
     "metadata": {},
     "output_type": "display_data"
    }
   ],
   "source": [
    "sns.lineplot(pdf)"
   ]
  },
  {
   "cell_type": "code",
   "execution_count": 27,
   "id": "4196c7f5-643e-4334-84e3-3cade8165537",
   "metadata": {},
   "outputs": [
    {
     "data": {
      "text/plain": [
       "<AxesSubplot: >"
      ]
     },
     "execution_count": 27,
     "metadata": {},
     "output_type": "execute_result"
    },
    {
     "data": {
      "image/png": "[encoded data removed]",
      "text/plain": [
       "<Figure size 640x480 with 1 Axes>"
      ]
     },
     "metadata": {},
     "output_type": "display_data"
    }
   ],
   "source": [
    "sns.lineplot(cdf)"
   ]
  },
  {
   "cell_type": "markdown",
   "id": "85c0701b-30c1-4fbf-8ba7-3d093180e882",
   "metadata": {},
   "source": [
    "# Q3: What are some examples of situations where the normal distribution might be used as a model? Explain how the parameters of the normal distribution relate to the shape of the distribution."
   ]
  },
  {
   "cell_type": "markdown",
   "id": "1f11ce82-9f93-4e15-9cea-90f206847aeb",
   "metadata": {},
   "source": [
    "The normal distribution is widely used in statistical inference and data analysis due to its many desirable properties. Many natural phenomena, such as the height and weight of people, follow a normal distribution. The normal distribution is also used as a model for the sampling distribution of many statistics, such as the sample mean and sample proportion."
   ]
  },
  {
   "cell_type": "markdown",
   "id": "e1a82d54-9a32-451e-a46c-11be1b2cbf3d",
   "metadata": {},
   "source": [
    "The two main parameters of a (normal) distribution are the mean and standard deviation. The parameters determine the shape and probabilities of the distribution. The shape of the distribution changes as the parameter values change."
   ]
  },
  {
   "cell_type": "markdown",
   "id": "923c3646-f559-446b-bfd5-7256dd8f4e50",
   "metadata": {},
   "source": [
    "In general, about 68%  of the area under a normal distribution curve lies within one standard deviation of the mean.\n",
    "\n",
    "That is, if x¯ is the mean and σ  is the standard deviation of the distribution, then 68%  of the values fall in the range between (x¯−σ)  and (x¯+σ)  . In the figure below, this corresponds to the region shaded pink.\n",
    "\n",
    "About 95%  of the values lie within two standard deviations of the mean, that is, between (x¯−2σ)  and (x¯+2σ).\n",
    "\n",
    "(In the figure, this is the sum of the pink and blue regions: 34%+34%+13.5%+13.5%=95%.)\n",
    "\n",
    "About 99.7% of the values lie within three standard deviations of the mean, that is, between (x¯−3σ)  and (x¯+3σ).(The pink, blue, and green regions in the figure.)\n",
    "\n"
   ]
  },
  {
   "attachments": {
    "634e2b5f-d888-473a-9e12-5f3217b1fe88.gif": {
     "image/gif": "[encoded data removed]"
    }
   },
   "cell_type": "markdown",
   "id": "21ca329d-06b0-464f-b125-f83c1415ce96",
   "metadata": {},
   "source": [
    "![normal-distribution-2.gif](attachment:634e2b5f-d888-473a-9e12-5f3217b1fe88.gif)"
   ]
  },
  {
   "cell_type": "markdown",
   "id": "a0ee45d9-7613-4a8b-bc50-ece1c70b4266",
   "metadata": {},
   "source": [
    "# Q4: Explain the importance of Normal Distribution. Give a few real-life examples of Normal Distribution."
   ]
  },
  {
   "cell_type": "code",
   "execution_count": null,
   "id": "29cfa954-7c36-4d6e-acf9-3ff422dc07a8",
   "metadata": {},
   "outputs": [],
   "source": [
    "Normal distributions have key characteristics that are easy to spot in graphs:\n",
    "\n",
    "The mean, median and mode are exactly the same.\n",
    "The distribution is symmetric about the mean—half the values fall below the mean and half above the mean.\n",
    "The distribution can be described by two values: the mean and the standard deviation."
   ]
  },
  {
   "cell_type": "markdown",
   "id": "70879048-879a-4c0a-8fd7-9502cce373e5",
   "metadata": {},
   "source": [
    "The mean is the location parameter while the standard deviation is the scale parameter.\n",
    "\n",
    "The mean determines where the peak of the curve is centered. Increasing the mean moves the curve right, while decreasing it moves the curve left.\n",
    "\n",
    "The standard deviation stretches or squeezes the curve. A small standard deviation results in a narrow curve, while a large standard deviation leads to a wide curve."
   ]
  },
  {
   "cell_type": "markdown",
   "id": "0a798d6f-9784-4309-99f1-04a95cf4efa3",
   "metadata": {},
   "source": [
    "In a normal distribution, data is symmetrically distributed with no skew. When plotted on a graph, the data follows a bell shape, with most values clustering around a central region and tapering off as they go further away from the center.\n",
    "\n",
    "Normal distributions are also called Gaussian distributions or bell curves because of their shape."
   ]
  },
  {
   "cell_type": "markdown",
   "id": "c8298d1e-bbd7-4368-a4c8-01d7e7ba87ea",
   "metadata": {},
   "source": [
    "All kinds of variables in natural and social sciences are normally or approximately normally distributed. Height, birth weight, reading ability, job satisfaction, or SAT scores are just a few examples of such variables."
   ]
  },
  {
   "cell_type": "code",
   "execution_count": null,
   "id": "9a5d3d68-72a4-453f-b24a-146cc311a5cd",
   "metadata": {},
   "outputs": [],
   "source": [
    "Empirical rule\n",
    "The empirical rule, or the 68-95-99.7 rule, tells you where most of your values lie in a normal distribution:\n",
    "\n",
    "Around 68% of values are within 1 standard deviation from the mean.\n",
    "Around 95% of values are within 2 standard deviations from the mean.\n",
    "Around 99.7% of values are within 3 standard deviations from the mean."
   ]
  },
  {
   "cell_type": "code",
   "execution_count": null,
   "id": "bcbd35f8-f67b-4690-bdb9-4a9a4ec7a206",
   "metadata": {},
   "outputs": [],
   "source": []
  },
  {
   "cell_type": "markdown",
   "id": "f37e7360-0fc4-436f-9d19-b6a785e4f144",
   "metadata": {},
   "source": [
    "# Q5: What is Bernaulli Distribution? Give an Example. What is the difference between Bernoulli Distribution and Binomial Distribution?"
   ]
  },
  {
   "cell_type": "code",
   "execution_count": null,
   "id": "3ca2e233-520c-41b6-ab08-6e883e8b9a2b",
   "metadata": {},
   "outputs": [],
   "source": [
    "Bernoulli distribution applies to events that have one trial and two possible outcomes."
   ]
  },
  {
   "cell_type": "markdown",
   "id": "3a9fb74e-cdd4-42f2-ad8b-966500a4b955",
   "metadata": {},
   "source": [
    "A Bernoulli distribution is a discrete distribution with only two possible values for the random variable. The distribution has only two possible outcomes and a single trial which is called a Bernoulli trial. The two possible outcomes in Bernoulli distribution are labeled by n=0 and n=1 in which n=1 (success) occurs with probability p and n=0 (failure) occurs with probability 1-p, and since it is a probability value so 0<=p<=1."
   ]
  },
  {
   "cell_type": "markdown",
   "id": "dd67e2cf-83db-4ee6-8026-61a4ec95bb80",
   "metadata": {},
   "source": [
    "In very simplistic terms, a Bernoulli distribution is a type of binomial distribution. We know that Bernoulli distribution applies to events that have one trial (n = 1) and two possible outcomes—for example, one coin flip (that’s the trial) and an outcome of either heads or tails. When we have more than one trial—say, we flip a coin five times—binomial distribution gives the discrete probability distribution of the number of “successes” in that sequence of independent coin flips (or trials).\n",
    "\n",
    "So, to continue with the coin flip example: Bernoulli distribution gives you the probability of “success” (say, landing on heads) when flipping the coin just once (that’s your Bernoulli trial). If you flip the coin five times, binomial distribution will calculate the probability of success (landing on heads) across all five coin flips."
   ]
  },
  {
   "cell_type": "markdown",
   "id": "b1e38945-9fc5-429d-ac54-6e6d6060dc1c",
   "metadata": {},
   "source": [
    "# Q6. Consider a dataset with a mean of 50 and a standard deviation of 10. If we assume that the dataset is normally distributed, what is the probability that a randomly selected observation will be greater than 60? Use the appropriate formula and show your calculations."
   ]
  },
  {
   "cell_type": "code",
   "execution_count": 36,
   "id": "483062ca-0d2b-4cbb-81ab-584cdee00d6b",
   "metadata": {},
   "outputs": [],
   "source": [
    "mean6=50\n",
    "std6=10"
   ]
  },
  {
   "cell_type": "code",
   "execution_count": 1,
   "id": "d608d7b1-4bbf-4259-a2eb-68fa16574396",
   "metadata": {},
   "outputs": [],
   "source": [
    "z=(60-50)/10"
   ]
  },
  {
   "cell_type": "code",
   "execution_count": 2,
   "id": "7ce88706-2a6a-4310-9e00-a57260f47167",
   "metadata": {},
   "outputs": [
    {
     "data": {
      "text/plain": [
       "1.0"
      ]
     },
     "execution_count": 2,
     "metadata": {},
     "output_type": "execute_result"
    }
   ],
   "source": [
    "z"
   ]
  },
  {
   "cell_type": "code",
   "execution_count": null,
   "id": "4981ddb4-4327-423e-a5db-b0557a10b643",
   "metadata": {},
   "outputs": [],
   "source": [
    "Using Z-Table,Probability value=.8413"
   ]
  },
  {
   "cell_type": "markdown",
   "id": "0ced1d64-7436-4c2b-905f-7af0a7926de4",
   "metadata": {},
   "source": [
    "Probality for greater than 60=1-0.8413=0.15869999999999995=15.87%"
   ]
  },
  {
   "cell_type": "code",
   "execution_count": 3,
   "id": "d1082e64-a574-49d5-9596-c95e32de55ab",
   "metadata": {},
   "outputs": [
    {
     "data": {
      "text/plain": [
       "0.15869999999999995"
      ]
     },
     "execution_count": 3,
     "metadata": {},
     "output_type": "execute_result"
    }
   ],
   "source": [
    "1-0.8413\n"
   ]
  },
  {
   "cell_type": "markdown",
   "id": "d82ff7d7-aaaa-4c0c-8326-37bc7190dca2",
   "metadata": {},
   "source": [
    "# Q7: Explain uniform Distribution with an example."
   ]
  },
  {
   "cell_type": "code",
   "execution_count": null,
   "id": "d8b3b233-6fd3-4cf1-93f7-634e80d2f108",
   "metadata": {},
   "outputs": [],
   "source": [
    "# https://www.investopedia.com/terms/u/uniform-distribution.asp#:~:text=Financial%20Review%20Board-,What%20Is%20Uniform%20Distribution%3F,a%20spade%20is%20equally%20likely."
   ]
  },
  {
   "cell_type": "markdown",
   "id": "e39a8ac9-fae0-45fa-a47c-0a1f9afa9482",
   "metadata": {},
   "source": [
    "Uniform distribution is a probability distribution that asserts that the outcomes for a discrete set of data have the same probability.\n",
    "\n",
    "\n",
    "It is expected that a uniform distribution will result in all possible outcomes having the same probability. The probability for one variable is the same for another."
   ]
  },
  {
   "cell_type": "markdown",
   "id": "2fead443-a339-4365-868f-6270a31a18f9",
   "metadata": {},
   "source": [
    "In statistics, uniform distribution refers to a type of probability distribution in which all outcomes are equally likely. A deck of cards has within it uniform distributions because the likelihood of drawing a heart, a club, a diamond, or a spade is equally likely. A coin also has a uniform distribution because the probability of getting either heads or tails in a coin toss is the same.\n",
    "\n",
    "The uniform distribution can be visualized as a straight horizontal line, so for a coin flip returning a head or tail, both have a probability p = 0.50 and would be depicted by a line from the y-axis at 0.50."
   ]
  },
  {
   "cell_type": "code",
   "execution_count": null,
   "id": "4e1c990e-51ec-4f76-b4a0-394f14eaede9",
   "metadata": {},
   "outputs": [],
   "source": [
    "KEY TAKEAWAYS\n",
    "Uniform distributions are probability distributions with equally likely outcomes.\n",
    "In a discrete uniform distribution, outcomes are discrete and have the same probability.\n",
    "In a continuous uniform distribution, outcomes are continuous and infinite.\n",
    "In a normal distribution, data around the mean occur more frequently.\n",
    "The frequency of occurrence decreases the farther you are from the mean in a normal distribution."
   ]
  },
  {
   "cell_type": "markdown",
   "id": "f82607a0-231f-40d0-8b62-87f54a4a923d",
   "metadata": {},
   "source": [
    "Example of Uniform Distribution\n",
    "There are 52 cards in a traditional deck of cards. In it are four suits: hearts, diamonds, clubs, and spades. Each suit contains an A, 2, 3, 4, 5, 6, 7, 8, 9, 10, J, Q, K, and 2 jokers. However, we'll do away with the jokers and face cards for this example, focusing only on number cards replicated in each suit. As a result, we are left with 40 cards, a set of discrete data.\n",
    "\n",
    "Suppose you want to know the probability of pulling a 2 of hearts from the modified deck. The probability of pulling a 2 of hearts is 1/40 or 2.5%. Each card is unique; therefore, the likelihood that you will pull any one of the cards in the deck is the same.\n",
    "\n",
    "Now, let's consider the likelihood of pulling a heart from the deck. The probability is significantly higher. Why? We are now only concerned with the suits in the deck. Since there are only four suits, pulling a heart yields a probability of 1/4 or 25%."
   ]
  },
  {
   "cell_type": "markdown",
   "id": "3d47a7e1-4e9e-457d-967e-c1b0641e25de",
   "metadata": {},
   "source": [
    "# Q8: What is the z score? State the importance of the z score."
   ]
  },
  {
   "cell_type": "markdown",
   "id": "38257a53-5d5e-4b3e-915b-ed6b7b6cb8d9",
   "metadata": {},
   "source": [
    "Z-score is a statistical measurement that describes a value's relationship to the mean of a group of values. Z-score is measured in terms of standard deviations from the mean. If a Z-score is 0, it indicates that the data point's score is identical to the mean score. A Z-score of 1.0 would indicate a value that is one standard deviation from the mean. Z-scores may be positive or negative, with a positive value indicating the score is above the mean and a negative score indicating it is below the mean."
   ]
  },
  {
   "cell_type": "markdown",
   "id": "ea8f46ab-2e16-4986-afe4-e1e22d90d2e1",
   "metadata": {},
   "source": [
    "The z-score shows the number of standard deviations a given data point lies from the mean. So, standard deviation must be calculated first because the z-score uses it to communicate a data point's variability."
   ]
  },
  {
   "cell_type": "markdown",
   "id": "d1c35c95-7b49-4522-9b61-e15be45fa030",
   "metadata": {},
   "source": [
    "A z-score is important because it tells where your data lies in the data distribution. For example, if a z-score is 1.5, it is 1.5 standard deviations away from the mean. Because 68% of your data lies within one standard deviation (if it is normally distributed), 1.5 might be considered too far from average for your comfort"
   ]
  },
  {
   "cell_type": "code",
   "execution_count": null,
   "id": "7467ae81-27ce-4668-8585-e5d9730e3c14",
   "metadata": {},
   "outputs": [],
   "source": []
  },
  {
   "cell_type": "markdown",
   "id": "abf700a1-1ae4-48ca-872c-3323e0235d3a",
   "metadata": {},
   "source": [
    "Interpretation of Z-score \n",
    "An element having a z-score of less than 0 represents that the element is less than the mean.\n",
    "An element having a z-score greater than 0 represents that the element is greater than the mean.\n",
    "An element having a z-score equal to 0 represents that the element is equal to the mean.\n",
    "An element having a z-score equal to 1 represents that the element is 1 standard deviation greater than the mean; a z-score equal to 2, 2 standard deviations greater than the mean, and so on.\n",
    "An element having a z-score equal to -1 represents that the element is 1 standard deviation less than the mean; a z-score equal to -2, 2 standard deviations less than the mean, and so on.\n",
    "If the number of elements in a given set is large, then about 68% of the elements have a z-score between -1 and 1; about 95% have a z-score between -2 and 2; about 99% have a z-score between -3 and 3. This is known as the Empirical Rule or the 68-95-99.7 Rule."
   ]
  },
  {
   "cell_type": "markdown",
   "id": "d08cda35-0256-44bd-b05c-c3fb564d1a6f",
   "metadata": {},
   "source": [
    "# Q9: What is Central Limit Theorem? State the significance of the Central Limit Theorem."
   ]
  },
  {
   "cell_type": "code",
   "execution_count": null,
   "id": "d37fcb5b-8562-44c3-acb8-8ecc89c2a8ef",
   "metadata": {},
   "outputs": [],
   "source": [
    "# https://www.scribbr.com/statistics/central-limit-theorem/\n",
    "The central limit theorem is the basis for how normal distributions work in statistics."
   ]
  },
  {
   "cell_type": "markdown",
   "id": "64bb2a6d-1a8e-451a-9eee-dfe511432350",
   "metadata": {},
   "source": [
    "The central limit theorem states that if you take sufficiently large samples from a population, the samples’ means will be normally distributed, even if the population isn’t normally distributed."
   ]
  },
  {
   "cell_type": "markdown",
   "id": "c8b211f9-856d-407b-b4d5-78fec2720e12",
   "metadata": {},
   "source": [
    "The central limit theorem relies on the concept of a sampling distribution, which is the probability distribution of a statistic for a large number of samples taken from a population.\n",
    "\n",
    "Imagining an experiment may help you to understand sampling distributions:\n",
    "\n",
    "Suppose that you draw a random sample from a population and calculate a statistic for the sample, such as the mean.\n",
    "Now you draw another random sample of the same size, and again calculate the mean.\n",
    "You repeat this process many times, and end up with a large number of means, one for each sample.\n",
    "The distribution of the sample means is an example of a sampling distribution.\n",
    "\n",
    "The central limit theorem says that the sampling distribution of the mean will always be normally distributed, as long as the sample size is large enough. Regardless of whether the population has a normal, Poisson, binomial, or any other distribution, the sampling distribution of the mean will be normal.\n",
    "\n",
    "A normal distribution is a symmetrical, bell-shaped distribution, with increasingly fewer observations the further from the center of the distribution."
   ]
  },
  {
   "cell_type": "markdown",
   "id": "27a2a3ab-bd31-47bb-a2c2-2d6a0171d60f",
   "metadata": {},
   "source": [
    "# Q10: State the assumptions of the Central Limit Theorem."
   ]
  },
  {
   "cell_type": "markdown",
   "id": "37cda0a5-3568-4d4a-b017-ce74bf30c955",
   "metadata": {},
   "source": [
    "Conditions of the central limit theorem\n",
    "The central limit theorem states that the sampling distribution of the mean will always follow a normal distribution under the following conditions:\n",
    "\n",
    "The sample size is sufficiently large. This condition is usually met if the sample size is n ≥ 30.\n",
    "The samples are independent and identically distributed (i.i.d.) random variables. This condition is usually met if the sampling is random.\n",
    "The population’s distribution has finite variance. Central limit theorem doesn’t apply to distributions with infinite variance, such as the Cauchy distribution. Most distributions have finite variance."
   ]
  }
 ],
 "metadata": {
  "kernelspec": {
   "display_name": "Python 3 (ipykernel)",
   "language": "python",
   "name": "python3"
  },
  "language_info": {
   "codemirror_mode": {
    "name": "ipython",
    "version": 3
   },
   "file_extension": ".py",
   "mimetype": "text/x-python",
   "name": "python",
   "nbconvert_exporter": "python",
   "pygments_lexer": "ipython3",
   "version": "3.10.8"
  }
 },
 "nbformat": 4,
 "nbformat_minor": 5
}
